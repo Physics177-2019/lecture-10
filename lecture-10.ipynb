{
 "cells": [
  {
   "cell_type": "code",
   "execution_count": null,
   "metadata": {},
   "outputs": [],
   "source": [
    "!pip install seaborn --upgrade"
   ]
  },
  {
   "cell_type": "markdown",
   "metadata": {},
   "source": [
    "# Lecture 10: Gibbs distribution for a single spin in an external magnetic field\n",
    "\n",
    "The energy of a particle with magnetic moment $\\mathbf{\\mu}$ in a magnetic field $\\mathbf{B}$ is given by\n",
    "\n",
    "$$ E = -\\mathbf{\\mu}\\cdot \\mathbf{B}\\,.$$\n",
    "\n",
    "Let's consider a statistical model of a particle in an external magnetic field. To keep things simple, we'll assume that the magnetic field is oriented in a fixed direction, and that the magnetic moment of the particle can be either aligned or anti-aligned with the magnetic field. In statistical physics models, these particles are often called **spins**.\n",
    "\n",
    "Mathematically, we could describe the orientation of the spin with a variable $\\sigma \\in \\{-1, 1\\}$. Let's assume that the magnetic field is oriented in the positive direction. The energy of the spin is then\n",
    "\n",
    "$$ E(\\sigma) = -\\epsilon \\sigma\\,, $$\n",
    "\n",
    "where $\\epsilon = \\mu B$. If we maintain the system with the spin at a constant temperature $T$, then the Gibbs distribution for the spin states $\\sigma$ is\n",
    "\n",
    "$$ P(\\sigma) = \\frac{e^{-E(\\sigma)/T}}{Z} \\,.$$\n",
    "\n",
    "Here we've chosen units such that Boltzmann's constant $k_B=1$.\n",
    "\n",
    "### Example: Coding the Gibbs distribution\n",
    "\n",
    "Now let's write a function that returns $P(\\sigma)$."
   ]
  },
  {
   "cell_type": "code",
   "execution_count": null,
   "metadata": {},
   "outputs": [],
   "source": [
    "import numpy as np\n",
    "import numpy.random as rng\n",
    "import seaborn as sns\n",
    "import matplotlib.pyplot as plt\n",
    "\n",
    "\n",
    "def gibbs(eps, T):\n",
    "    \"\"\" This function takes the energy eps and temperature T as input\n",
    "        and returns the Gibbs distribution for a single spin as output \"\"\"\n",
    "    \n",
    "    Z     = np.exp(-eps/T) + np.exp(eps/T)\n",
    "    p_pos = np.exp( eps/T) / Z\n",
    "    p_neg = np.exp(-eps/T) / Z\n",
    "    \n",
    "    return p_pos, p_neg"
   ]
  },
  {
   "cell_type": "markdown",
   "metadata": {},
   "source": [
    "The magnetization is the average direction of the spin, given by\n",
    "\n",
    "$$ m = \\left\\langle \\sigma \\right\\rangle = \\sum_{\\sigma\\in\\{\\pm 1\\}} \\sigma \\frac{e^{\\epsilon \\sigma/T}}{Z} \\,. $$ \n",
    "\n",
    "Let's use the Gibbs distribution above to compute the magnetization when $\\epsilon=1$ and $T=1$."
   ]
  },
  {
   "cell_type": "code",
   "execution_count": null,
   "metadata": {},
   "outputs": [],
   "source": [
    "p_pos, p_neg = gibbs(1, 1)\n",
    "\n",
    "m = # FILL THIS IN\n",
    "\n",
    "print('The magnetization is %lf' % m)"
   ]
  },
  {
   "cell_type": "code",
   "execution_count": null,
   "metadata": {},
   "outputs": [],
   "source": [
    "\n",
    "\n",
    "\n",
    "\n",
    "\n",
    "\n",
    "\n",
    "\n",
    "\n",
    "\n",
    "\n",
    "\n",
    "\n",
    "\n",
    "\n",
    "\n",
    "\n",
    "\n",
    "\n",
    "\n",
    "\n",
    "\n"
   ]
  },
  {
   "cell_type": "markdown",
   "metadata": {},
   "source": [
    "And now, let's explore the dependence of the magnetization on the strength and direction of the external magnetic field $\\mathbf{B}$. Because $\\epsilon$ is directly proportional to $\\mathbf{B}$, we can explore this behavior by manipulating $\\epsilon$ directly. For this demonstration we'll set $T=1$.\n",
    "\n",
    "*Aside*: In this simple case we can analytically write down the magnetization as a simple hyperbolic function."
   ]
  },
  {
   "cell_type": "code",
   "execution_count": null,
   "metadata": {},
   "outputs": [],
   "source": [
    "eps_values = np.arange(-2, 2, 0.01)\n",
    "m_values   = []\n",
    "\n",
    "for eps in eps_values:\n",
    "    p_pos, p_neg = gibbs(eps, 1)\n",
    "    m_values.append( p_pos - p_neg )\n",
    "    \n",
    "sns.lineplot(eps_values, m_values)\n",
    "plt.xlabel('magnetic field')\n",
    "plt.ylabel('magnetization');"
   ]
  },
  {
   "cell_type": "code",
   "execution_count": null,
   "metadata": {},
   "outputs": [],
   "source": [
    "\n",
    "\n",
    "\n",
    "\n",
    "\n",
    "\n",
    "\n",
    "\n",
    "\n",
    "\n",
    "\n",
    "\n",
    "\n",
    "\n",
    "\n",
    "\n",
    "\n",
    "\n",
    "\n",
    "\n",
    "\n",
    "\n"
   ]
  },
  {
   "cell_type": "markdown",
   "metadata": {},
   "source": [
    "**Exercise**: Explore the behavior of the magnetization as a function of the temperature when the strength of the magnetic field is fixed such that $\\epsilon = 1$. What do you expect to observe? \n",
    "\n",
    "**Note**: You might want to use a logarithmic scale for the temperature range. You can do this with the `logspace` function from `numpy`. Calling `np.logspace(start, end, num)` will return an array of `num` numbers from $10^{\\rm{start}}$ to $10^{\\rm{end}}$ that are evenly spaced on a log scale."
   ]
  },
  {
   "cell_type": "code",
   "execution_count": null,
   "metadata": {},
   "outputs": [],
   "source": [
    "import numpy as np\n",
    "\n",
    "eps      = 1\n",
    "T_values = # FILL THIS IN\n",
    "m_values = []\n",
    "\n",
    "# Loop through the T values to fill in magnetizations!\n",
    "for T in T_values:\n",
    "\n",
    "    # < Your code here >\n",
    "    \n",
    "sns.lineplot(T_values, m_values)\n",
    "plt.xscale('log')\n",
    "plt.xlabel('temperature')\n",
    "plt.ylabel('magnetization');"
   ]
  },
  {
   "cell_type": "code",
   "execution_count": null,
   "metadata": {},
   "outputs": [],
   "source": [
    "\n",
    "\n",
    "\n",
    "\n",
    "\n",
    "\n",
    "\n",
    "\n",
    "\n",
    "\n",
    "\n",
    "\n",
    "\n",
    "\n",
    "\n",
    "\n",
    "\n",
    "\n",
    "\n",
    "\n",
    "\n",
    "\n"
   ]
  },
  {
   "cell_type": "markdown",
   "metadata": {},
   "source": [
    "### Tracking the energy and entropy\n",
    "\n",
    "Recall that for this system the energy function $E(\\sigma)$ is\n",
    "\n",
    "$$\n",
    "E(\\sigma) = -\\epsilon \\sigma\\,,\n",
    "$$\n",
    "\n",
    "so the average energy\n",
    "\n",
    "$$ \n",
    "\\bar{E} = \\langle E(\\sigma) \\rangle = \\sum_\\sigma E(\\sigma) P(\\sigma)\\,.\n",
    "$$\n",
    "\n",
    "The entropy is given by\n",
    "\n",
    "$$\n",
    "S = -\\sum_{\\sigma} P(\\sigma) \\log P(\\sigma)\\,.\n",
    "$$\n",
    "\n",
    "How does changing the temperature affect the balance between the average energy and the entropy? We can plot how these change with the temperature below. For this analysis let's fix $\\epsilon=1$."
   ]
  },
  {
   "cell_type": "code",
   "execution_count": null,
   "metadata": {},
   "outputs": [],
   "source": [
    "eps = 1\n",
    "\n",
    "T_values = # FILL THIS IN\n",
    "E_values = []\n",
    "S_values = []\n",
    "\n",
    "# Loop through the T values to fill E and S\n",
    "\n",
    "for T in T_values:\n",
    "    p_pos, p_neg = gibbs(eps, T)\n",
    "    E_values.append(  ) # FILL IN, average energy at this temperature\n",
    "    S_values.append(  ) # FILL IN, entropy at this temperature\n",
    "    \n",
    "sns.lineplot(T_values, E_values, label='energy')\n",
    "sns.lineplot(T_values, S_values, label='entropy')\n",
    "plt.xscale('log')\n",
    "plt.xlabel('temperature');"
   ]
  },
  {
   "cell_type": "markdown",
   "metadata": {},
   "source": [
    "### Multiple spins\n",
    "\n",
    "What if, instead of a single spin, we had several? Because the spins are noninteracting, the Gibbs distribution for $P(\\underline{\\sigma})$ is actually a product distribution, \n",
    "\n",
    "$$\n",
    "P(\\underline{\\sigma}) = P(\\sigma_1)\\times P(\\sigma_2) \\times \\ldots \\times P(\\sigma_N)\\,.\n",
    "$$\n",
    "\n",
    "In that case, the probability of having a configuration with $n$ spins up and $N-n$ spins down is [binomial](https://en.wikipedia.org/wiki/Binomial_distribution),\n",
    "\n",
    "$$\n",
    "P(n) = \\binom{N}{n} p^n (1-p)^{N-n} = \\frac{N!}{n!(N-n)!} p^n (1-p)^{N-n}\\,,\n",
    "$$\n",
    "\n",
    "where $p = P(\\sigma_i = 1)$ is the probability that a single spin is up. We can compute this probability easily in Python using the `scipy.stats.binom` class.\n",
    "\n",
    "In the space below, we can examine how the total energy and magnetization of a system of 10 spins changes with temperature."
   ]
  },
  {
   "cell_type": "code",
   "execution_count": null,
   "metadata": {},
   "outputs": [],
   "source": [
    "import scipy\n",
    "\n",
    "N   = 10\n",
    "eps = 1\n",
    "\n",
    "T_values = # FILL THIS IN\n",
    "E_values = []\n",
    "m_values = []\n",
    "\n",
    "for T in T_values:\n",
    "    p_pos, p_neg = gibbs(eps, T)\n",
    "    \n",
    "    avg_E = 0\n",
    "    avg_m = 0\n",
    "    for n in range(N+1):\n",
    "        p_i = scipy.stats.binom.pmf(n, N, p_pos)\n",
    "        avg_E += p_i * ((n * -eps) + ((N-n) * eps))\n",
    "        avg_m += p_i * (n - (N-n))\n",
    "    \n",
    "    E_values.append(avg_E) # Compute average energy at this temperature\n",
    "    m_values.append(avg_m) # Compute magnetization at this temperature\n",
    "        \n",
    "sns.lineplot(T_values, E_values, label='energy')\n",
    "sns.lineplot(T_values, m_values, label='magnetization')\n",
    "plt.xscale('log')\n",
    "plt.xlabel('temperature');"
   ]
  },
  {
   "cell_type": "code",
   "execution_count": null,
   "metadata": {},
   "outputs": [],
   "source": []
  }
 ],
 "metadata": {
  "kernelspec": {
   "display_name": "Python 3",
   "language": "python",
   "name": "python3"
  },
  "language_info": {
   "codemirror_mode": {
    "name": "ipython",
    "version": 3
   },
   "file_extension": ".py",
   "mimetype": "text/x-python",
   "name": "python",
   "nbconvert_exporter": "python",
   "pygments_lexer": "ipython3",
   "version": "3.7.2"
  }
 },
 "nbformat": 4,
 "nbformat_minor": 2
}
