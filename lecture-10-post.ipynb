{
  "nbformat": 4,
  "nbformat_minor": 0,
  "metadata": {
    "colab": {
      "name": "lecture-10.ipynb",
      "version": "0.3.2",
      "provenance": []
    },
    "kernelspec": {
      "display_name": "Python 3",
      "language": "python",
      "name": "python3"
    }
  },
  "cells": [
    {
      "metadata": {
        "id": "pn_7YC98bXJS",
        "colab_type": "code",
        "colab": {
          "base_uri": "https://localhost:8080/",
          "height": 482
        },
        "outputId": "d2d83ac5-3207-4383-fdb6-f08c6203d193"
      },
      "cell_type": "code",
      "source": [
        "!pip install seaborn --upgrade"
      ],
      "execution_count": 1,
      "outputs": [
        {
          "output_type": "stream",
          "text": [
            "Collecting seaborn\n",
            "\u001b[?25l  Downloading https://files.pythonhosted.org/packages/a8/76/220ba4420459d9c4c9c9587c6ce607bf56c25b3d3d2de62056efe482dadc/seaborn-0.9.0-py3-none-any.whl (208kB)\n",
            "\u001b[K    100% |████████████████████████████████| 215kB 27.0MB/s \n",
            "\u001b[?25hRequirement already satisfied, skipping upgrade: pandas>=0.15.2 in /usr/local/lib/python3.6/dist-packages (from seaborn) (0.22.0)\n",
            "Requirement already satisfied, skipping upgrade: scipy>=0.14.0 in /usr/local/lib/python3.6/dist-packages (from seaborn) (1.1.0)\n",
            "Requirement already satisfied, skipping upgrade: matplotlib>=1.4.3 in /usr/local/lib/python3.6/dist-packages (from seaborn) (3.0.2)\n",
            "Requirement already satisfied, skipping upgrade: numpy>=1.9.3 in /usr/local/lib/python3.6/dist-packages (from seaborn) (1.14.6)\n",
            "Requirement already satisfied, skipping upgrade: pytz>=2011k in /usr/local/lib/python3.6/dist-packages (from pandas>=0.15.2->seaborn) (2018.9)\n",
            "Requirement already satisfied, skipping upgrade: python-dateutil>=2 in /usr/local/lib/python3.6/dist-packages (from pandas>=0.15.2->seaborn) (2.5.3)\n",
            "Requirement already satisfied, skipping upgrade: cycler>=0.10 in /usr/local/lib/python3.6/dist-packages (from matplotlib>=1.4.3->seaborn) (0.10.0)\n",
            "Requirement already satisfied, skipping upgrade: kiwisolver>=1.0.1 in /usr/local/lib/python3.6/dist-packages (from matplotlib>=1.4.3->seaborn) (1.0.1)\n",
            "Requirement already satisfied, skipping upgrade: pyparsing!=2.0.4,!=2.1.2,!=2.1.6,>=2.0.1 in /usr/local/lib/python3.6/dist-packages (from matplotlib>=1.4.3->seaborn) (2.3.1)\n",
            "Requirement already satisfied, skipping upgrade: six>=1.5 in /usr/local/lib/python3.6/dist-packages (from python-dateutil>=2->pandas>=0.15.2->seaborn) (1.11.0)\n",
            "Requirement already satisfied, skipping upgrade: setuptools in /usr/local/lib/python3.6/dist-packages (from kiwisolver>=1.0.1->matplotlib>=1.4.3->seaborn) (40.7.3)\n",
            "Installing collected packages: seaborn\n",
            "  Found existing installation: seaborn 0.7.1\n",
            "    Uninstalling seaborn-0.7.1:\n",
            "      Successfully uninstalled seaborn-0.7.1\n",
            "Successfully installed seaborn-0.9.0\n"
          ],
          "name": "stdout"
        },
        {
          "output_type": "display_data",
          "data": {
            "application/vnd.colab-display-data+json": {
              "pip_warning": {
                "packages": [
                  "seaborn"
                ]
              }
            }
          },
          "metadata": {
            "tags": []
          }
        }
      ]
    },
    {
      "metadata": {
        "id": "5jmEdoSFbXJX",
        "colab_type": "text"
      },
      "cell_type": "markdown",
      "source": [
        "# Lecture 10: Gibbs distribution for a single spin in an external magnetic field\n",
        "\n",
        "The energy of a particle with magnetic moment $\\mathbf{\\mu}$ in a magnetic field $\\mathbf{B}$ is given by\n",
        "\n",
        "$$ E = -\\mathbf{\\mu}\\cdot \\mathbf{B}\\,.$$\n",
        "\n",
        "Let's consider a statistical model of a particle in an external magnetic field. To keep things simple, we'll assume that the magnetic field is oriented in a fixed direction, and that the magnetic moment of the particle can be either aligned or anti-aligned with the magnetic field. In statistical physics models, these particles are often called **spins**.\n",
        "\n",
        "Mathematically, we could describe the orientation of the spin with a variable $\\sigma \\in \\{-1, 1\\}$. Let's assume that the magnetic field is oriented in the positive direction. The energy of the spin is then\n",
        "\n",
        "$$ E(\\sigma) = -\\epsilon \\sigma\\,, $$\n",
        "\n",
        "where $\\epsilon = \\mu B$. If we maintain the system with the spin at a constant temperature $T$, then the Gibbs distribution for the spin states $\\sigma$ is\n",
        "\n",
        "$$ P(\\sigma) = \\frac{e^{-E(\\sigma)/T}}{Z} \\,.$$\n",
        "\n",
        "Here we've chosen units such that Boltzmann's constant $k_B=1$.\n",
        "\n",
        "### Example: Coding the Gibbs distribution\n",
        "\n",
        "Now let's write a function that returns $P(\\sigma)$."
      ]
    },
    {
      "metadata": {
        "id": "yKe1Nu2HbXJY",
        "colab_type": "code",
        "colab": {}
      },
      "cell_type": "code",
      "source": [
        "import numpy as np\n",
        "import numpy.random as rng\n",
        "import seaborn as sns\n",
        "import matplotlib.pyplot as plt\n",
        "\n",
        "\n",
        "def gibbs(eps, T):\n",
        "    \"\"\" This function takes the energy eps and temperature T as input\n",
        "        and returns the Gibbs distribution for a single spin as output \"\"\"\n",
        "    \n",
        "    Z     = np.exp(-eps/T) + np.exp(eps/T)\n",
        "    p_pos = np.exp( eps/T) / Z\n",
        "    p_neg = np.exp(-eps/T) / Z\n",
        "    \n",
        "    return p_pos, p_neg"
      ],
      "execution_count": 0,
      "outputs": []
    },
    {
      "metadata": {
        "id": "Xm-st4DTbXJb",
        "colab_type": "text"
      },
      "cell_type": "markdown",
      "source": [
        "The magnetization is the average direction of the spin, given by\n",
        "\n",
        "$$ m = \\left\\langle \\sigma \\right\\rangle = \\sum_{\\sigma\\in\\{\\pm 1\\}} \\sigma \\frac{e^{\\epsilon \\sigma/T}}{Z} \\,. $$ \n",
        "\n",
        "Let's use the Gibbs distribution above to compute the magnetization when $\\epsilon=1$ and $T=1$."
      ]
    },
    {
      "metadata": {
        "id": "MgA2burubXJd",
        "colab_type": "code",
        "colab": {
          "base_uri": "https://localhost:8080/",
          "height": 35
        },
        "outputId": "7210ce94-287c-4146-84c8-e64468ee0fe0"
      },
      "cell_type": "code",
      "source": [
        "p_pos, p_neg = gibbs(1, 1)\n",
        "\n",
        "m = 1*p_pos - 1*p_neg # FILL THIS IN\n",
        "\n",
        "print('The magnetization is %lf' % m)"
      ],
      "execution_count": 2,
      "outputs": [
        {
          "output_type": "stream",
          "text": [
            "The magnetization is 0.761594\n"
          ],
          "name": "stdout"
        }
      ]
    },
    {
      "metadata": {
        "id": "klb-mpKTbXJf",
        "colab_type": "code",
        "colab": {}
      },
      "cell_type": "code",
      "source": [
        "\n",
        "\n",
        "\n",
        "\n",
        "\n",
        "\n",
        "\n",
        "\n",
        "\n",
        "\n",
        "\n",
        "\n",
        "\n",
        "\n",
        "\n",
        "\n",
        "\n",
        "\n",
        "\n",
        "\n",
        "\n",
        "\n"
      ],
      "execution_count": 0,
      "outputs": []
    },
    {
      "metadata": {
        "id": "0KEYlMQybXJj",
        "colab_type": "text"
      },
      "cell_type": "markdown",
      "source": [
        "And now, let's explore the dependence of the magnetization on the strength and direction of the external magnetic field $\\mathbf{B}$. Because $\\epsilon$ is directly proportional to $\\mathbf{B}$, we can explore this behavior by manipulating $\\epsilon$ directly. For this demonstration we'll set $T=1$.\n",
        "\n",
        "*Aside*: In this simple case we can analytically write down the magnetization as a simple hyperbolic function."
      ]
    },
    {
      "metadata": {
        "id": "5aNSi1oLbXJj",
        "colab_type": "code",
        "colab": {
          "base_uri": "https://localhost:8080/",
          "height": 283
        },
        "outputId": "157f6eca-8aaa-4a2c-c093-da10f28da9fe"
      },
      "cell_type": "code",
      "source": [
        "eps_values = np.arange(-2, 2, 0.01)\n",
        "m_values   = []\n",
        "\n",
        "for eps in eps_values:\n",
        "    p_pos, p_neg = gibbs(eps, 1)\n",
        "    m_values.append( p_pos - p_neg )\n",
        "    \n",
        "sns.lineplot(eps_values, m_values)\n",
        "plt.xlabel('magnetic field')\n",
        "plt.ylabel('magnetization');"
      ],
      "execution_count": 3,
      "outputs": [
        {
          "output_type": "display_data",
          "data": {
            "image/png": "[encoded data removed]",
            "text/plain": [
              "<Figure size 432x288 with 1 Axes>"
            ]
          },
          "metadata": {
            "tags": []
          }
        }
      ]
    },
    {
      "metadata": {
        "id": "zUTc38B1bXJm",
        "colab_type": "code",
        "colab": {}
      },
      "cell_type": "code",
      "source": [
        "\n",
        "\n",
        "\n",
        "\n",
        "\n",
        "\n",
        "\n",
        "\n",
        "\n",
        "\n",
        "\n",
        "\n",
        "\n",
        "\n",
        "\n",
        "\n",
        "\n",
        "\n",
        "\n",
        "\n",
        "\n",
        "\n"
      ],
      "execution_count": 0,
      "outputs": []
    },
    {
      "metadata": {
        "id": "hUvzNziqbXJp",
        "colab_type": "text"
      },
      "cell_type": "markdown",
      "source": [
        "**Exercise**: Explore the behavior of the magnetization as a function of the temperature when the strength of the magnetic field is fixed such that $\\epsilon = 1$. What do you expect to observe? \n",
        "\n",
        "**Note**: You might want to use a logarithmic scale for the temperature range. You can do this with the `logspace` function from `numpy`. Calling `np.logspace(start, end, num)` will return an array of `num` numbers from $10^{\\rm{start}}$ to $10^{\\rm{end}}$ that are evenly spaced on a log scale."
      ]
    },
    {
      "metadata": {
        "id": "PW6tjyD2bXJq",
        "colab_type": "code",
        "colab": {
          "base_uri": "https://localhost:8080/",
          "height": 287
        },
        "outputId": "0bf969a2-db00-4476-b3a4-9880b7b63371"
      },
      "cell_type": "code",
      "source": [
        "import numpy as np\n",
        "\n",
        "eps      = 1\n",
        "T_values = np.logspace(-2, 2, 100) # FILL THIS IN\n",
        "m_values = []\n",
        "\n",
        "# Loop through the T values to fill in magnetizations!\n",
        "for T in T_values:\n",
        "  p_pos, p_neg = gibbs(eps, T)\n",
        "  m_values.append( p_pos - p_neg )\n",
        "    \n",
        "sns.lineplot(T_values, m_values)\n",
        "plt.xscale('log')\n",
        "plt.xlabel('temperature')\n",
        "plt.ylabel('magnetization');"
      ],
      "execution_count": 4,
      "outputs": [
        {
          "output_type": "display_data",
          "data": {
            "image/png": "[encoded data removed]",
            "text/plain": [
              "<Figure size 432x288 with 1 Axes>"
            ]
          },
          "metadata": {
            "tags": []
          }
        }
      ]
    },
    {
      "metadata": {
        "id": "ectis4vebXJt",
        "colab_type": "code",
        "colab": {}
      },
      "cell_type": "code",
      "source": [
        "\n",
        "\n",
        "\n",
        "\n",
        "\n",
        "\n",
        "\n",
        "\n",
        "\n",
        "\n",
        "\n",
        "\n",
        "\n",
        "\n",
        "\n",
        "\n",
        "\n",
        "\n",
        "\n",
        "\n",
        "\n",
        "\n"
      ],
      "execution_count": 0,
      "outputs": []
    },
    {
      "metadata": {
        "id": "2ARL22SjbXJy",
        "colab_type": "text"
      },
      "cell_type": "markdown",
      "source": [
        "### Tracking the energy and entropy\n",
        "\n",
        "Recall that for this system the energy function $E(\\sigma)$ is\n",
        "\n",
        "$$\n",
        "E(\\sigma) = -\\epsilon \\sigma\\,,\n",
        "$$\n",
        "\n",
        "so the average energy\n",
        "\n",
        "$$ \n",
        "\\bar{E} = \\langle E(\\sigma) \\rangle = \\sum_\\sigma E(\\sigma) P(\\sigma)\\,.\n",
        "$$\n",
        "\n",
        "The entropy is given by\n",
        "\n",
        "$$\n",
        "S = -\\sum_{\\sigma} P(\\sigma) \\log P(\\sigma)\\,.\n",
        "$$\n",
        "\n",
        "How does changing the temperature affect the balance between the average energy and the entropy? We can plot how these change with the temperature below. For this analysis let's fix $\\epsilon=1$."
      ]
    },
    {
      "metadata": {
        "id": "HGAOmX3UbXJ0",
        "colab_type": "code",
        "colab": {
          "base_uri": "https://localhost:8080/",
          "height": 287
        },
        "outputId": "216541be-ce21-427a-a779-02e53d85e51b"
      },
      "cell_type": "code",
      "source": [
        "eps = 1\n",
        "\n",
        "T_values = np.logspace(-2, 2, 100) # FILL THIS IN\n",
        "E_values = []\n",
        "S_values = []\n",
        "\n",
        "# Loop through the T values to fill E and S\n",
        "\n",
        "for T in T_values:\n",
        "    p_pos, p_neg = gibbs(eps, T)\n",
        "    E_values.append( (-eps*p_pos) + (eps*p_neg) ) # FILL IN, average energy at this temperature\n",
        "    S_values.append( -(p_pos*np.log(p_pos)) - (p_neg*np.log(p_neg)) )  # FILL IN, entropy at this temperature\n",
        "    \n",
        "sns.lineplot(T_values, E_values, label='energy')\n",
        "sns.lineplot(T_values, S_values, label='entropy')\n",
        "plt.xscale('log')\n",
        "plt.xlabel('temperature');"
      ],
      "execution_count": 6,
      "outputs": [
        {
          "output_type": "display_data",
          "data": {
            "image/png": "[encoded data removed]",
            "text/plain": [
              "<Figure size 432x288 with 1 Axes>"
            ]
          },
          "metadata": {
            "tags": []
          }
        }
      ]
    },
    {
      "metadata": {
        "id": "vk6Ax1DAbXJ2",
        "colab_type": "text"
      },
      "cell_type": "markdown",
      "source": [
        "### Multiple spins\n",
        "\n",
        "What if, instead of a single spin, we had several? Because the spins are noninteracting, the Gibbs distribution for $P(\\underline{\\sigma})$ is actually a product distribution, \n",
        "\n",
        "$$\n",
        "P(\\underline{\\sigma}) = P(\\sigma_1)\\times P(\\sigma_2) \\times \\ldots \\times P(\\sigma_N)\\,.\n",
        "$$\n",
        "\n",
        "In that case, the probability of having a configuration with $n$ spins up and $N-n$ spins down is [binomial](https://en.wikipedia.org/wiki/Binomial_distribution),\n",
        "\n",
        "$$\n",
        "P(n) = \\binom{N}{n} p^n (1-p)^{N-n} = \\frac{N!}{n!(N-n)!} p^n (1-p)^{N-n}\\,,\n",
        "$$\n",
        "\n",
        "where $p = P(\\sigma_i = 1)$ is the probability that a single spin is up. We can compute this probability easily in Python using the `scipy.stats.binom` class.\n",
        "\n",
        "In the space below, we can examine how the total energy and magnetization of a system of 10 spins changes with temperature."
      ]
    },
    {
      "metadata": {
        "id": "Gp9NDliAbXJ4",
        "colab_type": "code",
        "colab": {}
      },
      "cell_type": "code",
      "source": [
        "import scipy\n",
        "\n",
        "N   = 10\n",
        "eps = 1\n",
        "\n",
        "T_values = # FILL THIS IN\n",
        "E_values = []\n",
        "m_values = []\n",
        "\n",
        "for T in T_values:\n",
        "    p_pos, p_neg = gibbs(eps, T)\n",
        "    \n",
        "    avg_E = 0\n",
        "    avg_m = 0\n",
        "    for n in range(N+1):\n",
        "        p_i = scipy.stats.binom.pmf(n, N, p_pos)\n",
        "        avg_E += p_i * ((n * -eps) + ((N-n) * eps))\n",
        "        avg_m += p_i * (n - (N-n))\n",
        "    \n",
        "    E_values.append(avg_E) # Compute average energy at this temperature\n",
        "    m_values.append(avg_m) # Compute magnetization at this temperature\n",
        "        \n",
        "sns.lineplot(T_values, E_values, label='energy')\n",
        "sns.lineplot(T_values, m_values, label='magnetization')\n",
        "plt.xscale('log')\n",
        "plt.xlabel('temperature');"
      ],
      "execution_count": 0,
      "outputs": []
    },
    {
      "metadata": {
        "id": "GYUCqZRRbXJ6",
        "colab_type": "code",
        "colab": {}
      },
      "cell_type": "code",
      "source": [
        ""
      ],
      "execution_count": 0,
      "outputs": []
    }
  ]
}